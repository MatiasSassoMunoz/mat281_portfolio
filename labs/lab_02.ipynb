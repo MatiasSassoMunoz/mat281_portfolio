{
 "cells": [
  {
   "cell_type": "markdown",
   "metadata": {},
   "source": [
    "# Problema 01 #"
   ]
  },
  {
   "cell_type": "code",
   "execution_count": 107,
   "metadata": {},
   "outputs": [],
   "source": [
    "import numpy as np        #se importa la libreria numpy"
   ]
  },
  {
   "cell_type": "code",
   "execution_count": 2,
   "metadata": {},
   "outputs": [],
   "source": [
    "def suma_a_trozo(a:np.array,n:int)->float:\n",
    "    suma=0           \n",
    "    for i in range(n):\n",
    "        suma+=a[0][i]\n",
    "    return(suma)"
   ]
  },
  {
   "cell_type": "code",
   "execution_count": 5,
   "metadata": {},
   "outputs": [],
   "source": [
    "def sma(a:np.array,n:int)->np.array:\n",
    "    \"\"\"\n",
    "    sma(a,n)\n",
    "    \n",
    "    La función calcula el promedio de n términos desplzandose por el arreglo.\n",
    "    \n",
    "    Parámetros\n",
    "    ----------\n",
    "    \n",
    "    a: np.array\n",
    "       un arreglo \n",
    "    \n",
    "    n: int \n",
    "       cantidad de términos considerados para el cálculo del promedio\n",
    "       \n",
    "    returns\n",
    "    -------\n",
    "    \n",
    "    medias_moviles_simples: np.array\n",
    "                            arreglo con el valor de los promedios de n términos\n",
    "    \n",
    "    Ejemplos\n",
    "    --------\n",
    "    \n",
    "    >>> sma(np.array([[1,2,3,4,5]]))\n",
    "    array([1.5 , 2.5, 3.5, 4.5])\n",
    "    \n",
    "    \"\"\"\n",
    "    largo=len(a[0])\n",
    "    \n",
    "    medias_moviles_simples=[]         \n",
    "    \n",
    "    if n>largo:                                                                 #si la cantidad de términos a considerar\n",
    "        raise TypeError(\"El número ingresado es mayor al largo del arreglo\")    #supera al largo del arreglo, no es posible \n",
    "                                                                                #hacer el cálculo\n",
    "    resto=len(a[0])-n    #obtenemos cuantos términos sobran \n",
    "                                    \n",
    "    \n",
    "    acumulacion=np.cumsum(a[0])  #calculamos la acumuluacion de las sumas de los términos\n",
    "    \n",
    "    for k in range(resto+1):\n",
    "            if k==0:                                               #si k=0 , se calcula el promedio de los primeros n \n",
    "                medias_moviles_simples.append(acumulacion[n-1]/n)  #terminos  \n",
    "            else:\n",
    "                medias_moviles_simples.append((acumulacion[n-1+k]-suma_a_trozo(a,k))/n) #si k no es cero se crea una lista\n",
    "                                                                                        #con los terminos sobrantes de la suma acumulada, los cuales se restan a la suma acumulada  \n",
    "    return(np.array(medias_moviles_simples))    "
   ]
  },
  {
   "cell_type": "code",
   "execution_count": 9,
   "metadata": {},
   "outputs": [
    {
     "data": {
      "text/plain": [
       "array([1.5, 2.5, 3.5, 4.5])"
      ]
     },
     "execution_count": 9,
     "metadata": {},
     "output_type": "execute_result"
    }
   ],
   "source": [
    "#ejemplo\n",
    "a = np.array([[1,2,3,4,5]])\n",
    "sma(a,2)"
   ]
  },
  {
   "cell_type": "code",
   "execution_count": 8,
   "metadata": {},
   "outputs": [
    {
     "data": {
      "text/plain": [
       "array([4. , 5.5, 9. , 6. , 1.5, 3. , 3. , 0.5, 1. ])"
      ]
     },
     "execution_count": 8,
     "metadata": {},
     "output_type": "execute_result"
    }
   ],
   "source": [
    "#ejemplo\n",
    "b=np.array([[5,3,8,10,2,1,5,1,0,2]])\n",
    "sma(b,2)"
   ]
  },
  {
   "cell_type": "markdown",
   "metadata": {},
   "source": [
    "# Problema 02 # \n"
   ]
  },
  {
   "cell_type": "code",
   "execution_count": 94,
   "metadata": {},
   "outputs": [],
   "source": [
    "def strides(a:np.array,n:int,p:int)->np.array:\n",
    "    \"\"\"\n",
    "    strides(a,n,p)\n",
    "     \n",
    "    La función recibe un arreglo, un entero n y otro entero p.\n",
    "    Se crea una matriz de n columnas y las filas se construyen \n",
    "    desfasando los elementos del arreglo en p términos.\n",
    "    Si la cantidad de términos se acaba y y aún falta entradas en la matriz\n",
    "    , estas esntradas se rellenan con ceros.\n",
    "    \n",
    "    Parámetros\n",
    "    ----------\n",
    "    \n",
    "    a: np.arreglo \n",
    "       un arreglo\n",
    "    n: int   \n",
    "       numero de columnas deseadas para la matriz  \n",
    "    p: int\n",
    "        desfase para los términos del arreglo\n",
    "        \n",
    "    returns\n",
    "    -------\n",
    "    \n",
    "    A: np.array\n",
    "       matriz de n columnas cuyas filas fueron construidas a partir de los desfases de lo términos del arreglo\n",
    "    \n",
    "    Ejemplos\n",
    "    --------\n",
    "    \n",
    "    >>> strides(np.array([[1,2,3,4,5,6,7,8,9,10]]),4,2)\n",
    "    array([1., 2., 3., 4.],\n",
    "          [3., 4., 5., 6.],\n",
    "          [5., 6., 7., 8.],\n",
    "          [7., 8., 9., 10.])\n",
    "    \n",
    "    \"\"\"\n",
    "    if np.shape(a)[1]<n:                                                             #si el largo del arreglo es menor \n",
    "        raise TypeError(\"el número de columnas deseado supera al largo del arreglo\") # al número de columnas deseadas para\n",
    "                                                                                     #la matriz, entonces no es posible construirla \n",
    "    if np.shape(a)[1]<p:\n",
    "        raise TypeError(\"el número de pasos es mayor al largo del arreglo\")          #si el número de pasos es mayor al largo del arreglo    \n",
    "                                                                                     #no es posible cosntruir la matriz  \n",
    "    A=np.zeros((1,n))\n",
    "         \n",
    "    for k in np.arange(n):              #la primera fila de la matriz                    \n",
    "         A[0][k]=a[0][k]                #corresponde a los n primeros terminos del arreglo \n",
    "                \n",
    "    stop=0\n",
    "    \n",
    "    for k in np.arange(1,np.shape(a)[1]-1):    \n",
    "\n",
    "        lista=[]\n",
    "        \n",
    "        for j in np.arange(n):    \n",
    "            \n",
    "            if k*p+j>np.shape(a)[1]-1:             #se recorre el largo del arreglo \n",
    "                    lista.append(0)                #y un arange de n terminos  \n",
    "            else:                                  #se ejecutan los desfases   \n",
    "                 lista.append(a[0][k*p+j])         #los terminos se guardan en la lista \"lista\"\n",
    "                                                   #la cual se reinicia para cada construccin de fila de la matriz\n",
    "        C=np.array([lista])                        # se crea un arreglo en base a la lista\n",
    "        \n",
    "            \n",
    "        if stop in lista:\n",
    "                break\n",
    "            \n",
    "        A=np.vstack([A,C])                         #se guarda el arreglo como una neva fila para la matriz\n",
    "    \n",
    "    return(A)                                      #se obtiene la matriz "
   ]
  },
  {
   "cell_type": "code",
   "execution_count": 93,
   "metadata": {},
   "outputs": [
    {
     "data": {
      "text/plain": [
       "array([[ 1.,  2.,  3.,  4.],\n",
       "       [ 3.,  4.,  5.,  6.],\n",
       "       [ 5.,  6.,  7.,  8.],\n",
       "       [ 7.,  8.,  9., 10.]])"
      ]
     },
     "execution_count": 93,
     "metadata": {},
     "output_type": "execute_result"
    }
   ],
   "source": [
    "a=np.array([[1,2,3,4,5,6,7,8,9,10]])\n",
    "\n",
    "#b=np.array([[5,6,7]])\n",
    "#np.vstack([a,b])\n",
    "strides(a,4,2)"
   ]
  },
  {
   "cell_type": "markdown",
   "metadata": {},
   "source": [
    "# Problema 3 # "
   ]
  },
  {
   "cell_type": "code",
   "execution_count": 30,
   "metadata": {},
   "outputs": [],
   "source": [
    "def suma_diagonal_derecha(A:np.array,n:int)->int:\n",
    "    suma=0\n",
    "    for k in range(n):\n",
    "        suma+=A[k][n-1-k]\n",
    "    return(suma)"
   ]
  },
  {
   "cell_type": "code",
   "execution_count": 31,
   "metadata": {},
   "outputs": [],
   "source": [
    "def suma_de_fila(fila:list)->float:\n",
    "    return(sum(fila))"
   ]
  },
  {
   "cell_type": "code",
   "execution_count": 100,
   "metadata": {},
   "outputs": [],
   "source": [
    "def es_cuadrado_magico(A:np.array)->bool:\n",
    "    \"\"\"\n",
    "    es_cuadrado_magico(A)\n",
    "    \n",
    "    La funcion recibe una matriz cuadrada  de entrdas positivas y se determina si la matriz es un cuadrado magico\n",
    "    \n",
    "    Parametros\n",
    "    ---------\n",
    "    A: np.array\n",
    "       matriz cuadrada de entradas positivas  \n",
    "    \n",
    "    returns\n",
    "    -------\n",
    "    \n",
    "    bool: True o False\n",
    "    \n",
    "    \n",
    "    Ejemplos\n",
    "    --------\n",
    "    \n",
    "    >>> es_cuadrado_magico(np.array([4,9,2],[3,5,7],[8,1,6])\n",
    "    True\n",
    "    \n",
    "    \"\"\"\n",
    "    \n",
    "    if len(A[0])!=len(A.T[0]):                                 #se determina si la matriz es cuadrada\n",
    "        raise TypeError(\"La matriz ingresada no es cuadrada\")  #comparando el largo de sus filas con el largo de sus columnas\n",
    "    \n",
    "    n = len(A[0])\n",
    "    \n",
    "    numeros_consecutivos=list(range(1,n**2+1))             #se crea una lista range con los numeros consecutivos\n",
    "                                                           \n",
    "    for i in range(n):\n",
    "        for j in range(n):\n",
    "            if A[i][j] in numeros_consecutivos:           #este bucle detecta si la matriz solo tiene los numeros consecutivos \n",
    "                numeros_consecutivos.remove(A[i][j])      #sin repeticiones, cada vez que se confirma que un termino \n",
    "            else:                                         #de la matriz esta en la lista, dicho termino se borra de la lista\n",
    "                return(False)                             #y así se asegura de que los numeros no se repiten\n",
    "\n",
    "    numero_magico = (n*((n**2)+1))/2                     #se calcula la suma que se quiere verificar\n",
    "    \n",
    "    if np.trace(A)!=numero_magico:                       #se verifica si la traza es igual al numero magico\n",
    "        return(False) \n",
    "    \n",
    "    if suma_diagonal_derecha(A,n)!=numero_magico:       #se verifica si la diagonal opuesta a la principal es igual al numero magico\n",
    "        return(False)\n",
    "    \n",
    "    for k in range(n):\n",
    "        if suma_de_fila(A[k])!=numero_magico:           #se verifica si la suma por fila es igual al numero magico \n",
    "            return(False)\n",
    "    B=A.T                                              #se traspone la matriz para poder calcular las sumas de las columnas\n",
    "\n",
    "    for i in range(n):                                 #se verifica si las sumas columnas es igual al numero magico\n",
    "        if suma_de_fila(B[k])!=numero_magico:\n",
    "            return(False)\n",
    "    \n",
    "    return(True)"
   ]
  },
  {
   "cell_type": "code",
   "execution_count": 101,
   "metadata": {},
   "outputs": [],
   "source": [
    "#ejemplo\n",
    "A=np.array([[4,9,2],[3,5,7],[8,1,6]])"
   ]
  },
  {
   "cell_type": "code",
   "execution_count": 102,
   "metadata": {},
   "outputs": [
    {
     "data": {
      "text/plain": [
       "True"
      ]
     },
     "execution_count": 102,
     "metadata": {},
     "output_type": "execute_result"
    }
   ],
   "source": [
    "es_cuadrado_magico(A)"
   ]
  },
  {
   "cell_type": "code",
   "execution_count": 103,
   "metadata": {},
   "outputs": [
    {
     "data": {
      "text/plain": [
       "False"
      ]
     },
     "execution_count": 103,
     "metadata": {},
     "output_type": "execute_result"
    }
   ],
   "source": [
    "#ejemplo\n",
    "B=np.array([[4,2,9],[3,5,7],[8,1,6]])\n",
    "es_cuadrado_magico(B)"
   ]
  },
  {
   "cell_type": "code",
   "execution_count": 105,
   "metadata": {},
   "outputs": [
    {
     "ename": "TypeError",
     "evalue": "La matriz ingresada no es cuadrada",
     "output_type": "error",
     "traceback": [
      "\u001b[1;31m---------------------------------------------------------------------------\u001b[0m",
      "\u001b[1;31mTypeError\u001b[0m                                 Traceback (most recent call last)",
      "\u001b[1;32m<ipython-input-105-6066a8a54db4>\u001b[0m in \u001b[0;36m<module>\u001b[1;34m\u001b[0m\n\u001b[0;32m      1\u001b[0m \u001b[1;31m#ejemplo para mostrar que una matriz no cuadrada no es admitida por la funcion\u001b[0m\u001b[1;33m\u001b[0m\u001b[1;33m\u001b[0m\u001b[1;33m\u001b[0m\u001b[0m\n\u001b[0;32m      2\u001b[0m \u001b[0my\u001b[0m\u001b[1;33m=\u001b[0m\u001b[0mnp\u001b[0m\u001b[1;33m.\u001b[0m\u001b[0marray\u001b[0m\u001b[1;33m(\u001b[0m\u001b[1;33m[\u001b[0m\u001b[1;33m[\u001b[0m\u001b[1;36m2\u001b[0m\u001b[1;33m,\u001b[0m\u001b[1;36m3\u001b[0m\u001b[1;33m]\u001b[0m\u001b[1;33m,\u001b[0m\u001b[1;33m[\u001b[0m\u001b[1;36m2\u001b[0m\u001b[1;33m,\u001b[0m\u001b[1;36m3\u001b[0m\u001b[1;33m]\u001b[0m\u001b[1;33m,\u001b[0m\u001b[1;33m[\u001b[0m\u001b[1;36m1\u001b[0m\u001b[1;33m,\u001b[0m\u001b[1;36m3\u001b[0m\u001b[1;33m]\u001b[0m\u001b[1;33m]\u001b[0m\u001b[1;33m)\u001b[0m\u001b[1;33m\u001b[0m\u001b[1;33m\u001b[0m\u001b[0m\n\u001b[1;32m----> 3\u001b[1;33m \u001b[0mes_cuadrado_magico\u001b[0m\u001b[1;33m(\u001b[0m\u001b[0my\u001b[0m\u001b[1;33m)\u001b[0m\u001b[1;33m\u001b[0m\u001b[1;33m\u001b[0m\u001b[0m\n\u001b[0m",
      "\u001b[1;32m<ipython-input-100-f567f0e948fa>\u001b[0m in \u001b[0;36mes_cuadrado_magico\u001b[1;34m(A)\u001b[0m\n\u001b[0;32m     25\u001b[0m \u001b[1;33m\u001b[0m\u001b[0m\n\u001b[0;32m     26\u001b[0m     \u001b[1;32mif\u001b[0m \u001b[0mlen\u001b[0m\u001b[1;33m(\u001b[0m\u001b[0mA\u001b[0m\u001b[1;33m[\u001b[0m\u001b[1;36m0\u001b[0m\u001b[1;33m]\u001b[0m\u001b[1;33m)\u001b[0m\u001b[1;33m!=\u001b[0m\u001b[0mlen\u001b[0m\u001b[1;33m(\u001b[0m\u001b[0mA\u001b[0m\u001b[1;33m.\u001b[0m\u001b[0mT\u001b[0m\u001b[1;33m[\u001b[0m\u001b[1;36m0\u001b[0m\u001b[1;33m]\u001b[0m\u001b[1;33m)\u001b[0m\u001b[1;33m:\u001b[0m                                 \u001b[1;31m#se determina si la matriz es cuadrada\u001b[0m\u001b[1;33m\u001b[0m\u001b[1;33m\u001b[0m\u001b[0m\n\u001b[1;32m---> 27\u001b[1;33m         \u001b[1;32mraise\u001b[0m \u001b[0mTypeError\u001b[0m\u001b[1;33m(\u001b[0m\u001b[1;34m\"La matriz ingresada no es cuadrada\"\u001b[0m\u001b[1;33m)\u001b[0m  \u001b[1;31m#comparando el largo de sus filas con el largo de sus columnas\u001b[0m\u001b[1;33m\u001b[0m\u001b[1;33m\u001b[0m\u001b[0m\n\u001b[0m\u001b[0;32m     28\u001b[0m \u001b[1;33m\u001b[0m\u001b[0m\n\u001b[0;32m     29\u001b[0m     \u001b[0mn\u001b[0m \u001b[1;33m=\u001b[0m \u001b[0mlen\u001b[0m\u001b[1;33m(\u001b[0m\u001b[0mA\u001b[0m\u001b[1;33m[\u001b[0m\u001b[1;36m0\u001b[0m\u001b[1;33m]\u001b[0m\u001b[1;33m)\u001b[0m\u001b[1;33m\u001b[0m\u001b[1;33m\u001b[0m\u001b[0m\n",
      "\u001b[1;31mTypeError\u001b[0m: La matriz ingresada no es cuadrada"
     ]
    }
   ],
   "source": [
    "#ejemplo para mostrar que una matriz no cuadrada no es admitida por la funcion \n",
    "y=np.array([[2,3],[2,3],[1,3]])\n",
    "es_cuadrado_magico(y)"
   ]
  },
  {
   "cell_type": "code",
   "execution_count": 39,
   "metadata": {},
   "outputs": [
    {
     "data": {
      "text/plain": [
       "True"
      ]
     },
     "execution_count": 39,
     "metadata": {},
     "output_type": "execute_result"
    }
   ],
   "source": [
    "C=np.array([[17,24,1,8,15],\n",
    "            [23,5,7,14,16],\n",
    "            [4,6,13,20,22],\n",
    "            [10,12,19,21,3],\n",
    "            [11,18,25,2,9]])\n",
    "es_cuadrado_magico(C)"
   ]
  }
 ],
 "metadata": {
  "kernelspec": {
   "display_name": "Python 3",
   "language": "python",
   "name": "python3"
  },
  "language_info": {
   "codemirror_mode": {
    "name": "ipython",
    "version": 3
   },
   "file_extension": ".py",
   "mimetype": "text/x-python",
   "name": "python",
   "nbconvert_exporter": "python",
   "pygments_lexer": "ipython3",
   "version": "3.7.8"
  }
 },
 "nbformat": 4,
 "nbformat_minor": 4
}
