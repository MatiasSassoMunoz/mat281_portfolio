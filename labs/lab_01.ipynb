{
 "cells": [
  {
   "cell_type": "markdown",
   "metadata": {},
   "source": [
    "# Problema 01 #"
   ]
  },
  {
   "cell_type": "markdown",
   "metadata": {},
   "source": [
    "## Problema 01a) ##"
   ]
  },
  {
   "cell_type": "markdown",
   "metadata": {},
   "source": [
    "Desarolle un programa para estimar el valor de $\\pi$ ocupando el método de Leibniz, donde la entrada del programa debe ser un número entero $n$ que indique cuántos términos de la suma se utilizará."
   ]
  },
  {
   "cell_type": "code",
   "execution_count": 1,
   "metadata": {},
   "outputs": [],
   "source": [
    "def calcular_pi(n:int)->float:\n",
    "    \n",
    "    \n",
    "    \"\"\"\n",
    "    calcular_pi(n)\n",
    "    \n",
    "    La función aproxima al número pi mediante el método de Leibniz.\n",
    "    \n",
    "    Parámetros\n",
    "    ------------\n",
    "    n: int \n",
    "       número de términos con los que se quiere aproximar pi.\n",
    "       \n",
    "    returns\n",
    "    --------\n",
    "    \n",
    "    new_pi: float \n",
    "            valor aproximado de pi.\n",
    "    \n",
    "    Ejemplos\n",
    "    ---------\n",
    "    >>> calcular_pi(3)\n",
    "    3.466666666666667\n",
    "    \n",
    "    >>> calcular_pi(1000)\n",
    "    3.140592653839794\n",
    "    \"\"\"\n",
    "    \n",
    "    \n",
    "    pi=0\n",
    "    for i in range(1,n+1):           \n",
    "        pi+=((-1)**(i+1))/(2*i-1)        #se calula término por iteración y se agrega a la sumatoria\n",
    "    \n",
    "    new_pi=4*pi                          #al multiplicar por 4 se obtiene la aproximacón deseada  \n",
    "    \n",
    "    return(new_pi)\n",
    "\n",
    "    \n"
   ]
  },
  {
   "cell_type": "code",
   "execution_count": 2,
   "metadata": {},
   "outputs": [
    {
     "name": "stdout",
     "output_type": "stream",
     "text": [
      "Help on function calcular_pi in module __main__:\n",
      "\n",
      "calcular_pi(n: int) -> float\n",
      "    calcular_pi(n)\n",
      "    \n",
      "    La función aproxima al número pi mediante el método de Leibniz.\n",
      "    \n",
      "    Parámetros\n",
      "    ------------\n",
      "    n: int \n",
      "       número de términos con los que se quiere aproximar pi.\n",
      "       \n",
      "    returns\n",
      "    --------\n",
      "    \n",
      "    new_pi: float \n",
      "            valor aproximado de pi.\n",
      "    \n",
      "    Ejemplos\n",
      "    ---------\n",
      "    >>> calcular_pi(3)\n",
      "    3.466666666666667\n",
      "    \n",
      "    >>> calcular_pi(1000)\n",
      "    3.140592653839794\n",
      "\n"
     ]
    }
   ],
   "source": [
    "help(calcular_pi)"
   ]
  },
  {
   "cell_type": "code",
   "execution_count": 6,
   "metadata": {},
   "outputs": [
    {
     "name": "stdout",
     "output_type": "stream",
     "text": [
      "3.466666666666667\n"
     ]
    }
   ],
   "source": [
    "print(calcular_pi(3))"
   ]
  },
  {
   "cell_type": "code",
   "execution_count": 7,
   "metadata": {},
   "outputs": [
    {
     "name": "stdout",
     "output_type": "stream",
     "text": [
      "3.140592653839794\n"
     ]
    }
   ],
   "source": [
    "print(calcular_pi(1000))"
   ]
  },
  {
   "cell_type": "markdown",
   "metadata": {},
   "source": [
    "## Problema 01b) ##"
   ]
  },
  {
   "cell_type": "markdown",
   "metadata": {},
   "source": [
    "Desarolle un programa para estimar el valor de $e$ ocupando el método de Euler, donde la entrada del programa debe ser un número entero $n$ que indique cuántos términos de la suma se utilizará."
   ]
  },
  {
   "cell_type": "markdown",
   "metadata": {},
   "source": [
    "Primero se desarrolla la función auxiliar \"factorial\", para obtener el factorial de un número."
   ]
  },
  {
   "cell_type": "code",
   "execution_count": 3,
   "metadata": {},
   "outputs": [],
   "source": [
    "def factorial(n:int)->int:\n",
    "    \n",
    "    \"\"\"\n",
    "    factorial(n)\n",
    "    \n",
    "    La función calcula el factorial de un número natural\n",
    "    \n",
    "    Parámetros\n",
    "    ----------\n",
    "    \n",
    "    n: int \n",
    "       número al cual se le quiere calcular su factorial\n",
    "       \n",
    "    returns\n",
    "    -------\n",
    "    \n",
    "    fact: int\n",
    "          resultado del factorial de n\n",
    "          \n",
    "    Ejemplos\n",
    "    --------\n",
    "    \n",
    "    >>> factorial(6)\n",
    "    720\n",
    "    \n",
    "    >>> factorial(5)\n",
    "    120\n",
    "    \n",
    "    \"\"\"\n",
    "    \n",
    "    if isinstance(n,int)==False:                      #se verifica si el número es entero\n",
    "        print(\"el número ingresado no es válido\")     #mediante la función isinstance \n",
    "        raise TypeError\n",
    "    \n",
    "    if n==1 or n==0:             #si n=1 0 n=0 se tiene que 1!=0!=1\n",
    "        return(1)\n",
    "    \n",
    "    else:\n",
    "         fact=n*factorial(n-1)   #la función se llama asimisma recursivamente hasta llegar a 1 para guardar la productoria \n",
    "    \n",
    "    return(fact)\n",
    "\n",
    "\n"
   ]
  },
  {
   "cell_type": "markdown",
   "metadata": {},
   "source": [
    "Luego se desarolla la función principal \"calcular_e\""
   ]
  },
  {
   "cell_type": "code",
   "execution_count": 4,
   "metadata": {},
   "outputs": [],
   "source": [
    "def calcular_e(n:int)->float:\n",
    "    \n",
    "    \"\"\"\n",
    "    calcular_e(n)\n",
    "    \n",
    "    La función aproxima al número e mediante el método de Euler.\n",
    "    \n",
    "    Parámetros\n",
    "    ----------\n",
    "    n: int\n",
    "       número de términos con que se quiere aproximar a e.\n",
    "       \n",
    "    returns\n",
    "    -------\n",
    "    e: float\n",
    "       aproximación de e mediante n términos de la serie.\n",
    "       \n",
    "    Ejemplos\n",
    "    --------\n",
    "    \n",
    "    >>> calcular_e(3)\n",
    "    2.5\n",
    "    \n",
    "    >>> calcular_e(1000)\n",
    "    2.7182818284590455\n",
    "    \"\"\"\n",
    "    \n",
    "    if isinstance(n,int)==False:                         #se verifica si el número es entero mediante\n",
    "        print(\"el número ingresado no es válido\")        #mediante la función isinstance  \n",
    "        raise TypeError\n",
    "    e=0\n",
    "    \n",
    "    for i in range(0,n):\n",
    "        \n",
    "        e+=1/(factorial(i))   #se llama a la función factorial y se suman los términos de la serie por cada iteración \n",
    "            \n",
    "    return(e) "
   ]
  },
  {
   "cell_type": "code",
   "execution_count": 5,
   "metadata": {},
   "outputs": [
    {
     "name": "stdout",
     "output_type": "stream",
     "text": [
      "Help on function calcular_e in module __main__:\n",
      "\n",
      "calcular_e(n: int) -> float\n",
      "    calcular_e(n)\n",
      "    \n",
      "    La función aproxima al número e mediante el método de Euler.\n",
      "    \n",
      "    Parámetros\n",
      "    ----------\n",
      "    n: int\n",
      "       número de términos con que se quiere aproximar a e.\n",
      "       \n",
      "    returns\n",
      "    -------\n",
      "    e: float\n",
      "       aproximación de e mediante n términos de la serie.\n",
      "       \n",
      "    Ejemplos\n",
      "    --------\n",
      "    \n",
      "    >>> calcular_e(3)\n",
      "    2.5\n",
      "    \n",
      "    >>> calcular_e(1000)\n",
      "    2.7182818284590455\n",
      "\n"
     ]
    }
   ],
   "source": [
    "help(calcular_e)"
   ]
  },
  {
   "cell_type": "code",
   "execution_count": 6,
   "metadata": {},
   "outputs": [
    {
     "name": "stdout",
     "output_type": "stream",
     "text": [
      "2.5\n"
     ]
    }
   ],
   "source": [
    "print(calcular_e(3))"
   ]
  },
  {
   "cell_type": "code",
   "execution_count": 7,
   "metadata": {},
   "outputs": [
    {
     "name": "stdout",
     "output_type": "stream",
     "text": [
      "2.7182818284590455\n"
     ]
    }
   ],
   "source": [
    "print(calcular_e(1000))"
   ]
  },
  {
   "cell_type": "markdown",
   "metadata": {},
   "source": [
    "# Problema 02 # "
   ]
  },
  {
   "cell_type": "markdown",
   "metadata": {},
   "source": [
    "En primer lugar, se desarrollan la funciones auxiliares \"es_par\" y \"suma_de_divisores\""
   ]
  },
  {
   "cell_type": "code",
   "execution_count": 8,
   "metadata": {},
   "outputs": [],
   "source": [
    "def es_par(n:int)->bool:\n",
    "    \n",
    "    \"\"\"\n",
    "    es_par(n)\n",
    "    \n",
    "    La función determina si un número es par o no.\n",
    "    \n",
    "    Parámetros\n",
    "    ----------\n",
    "    \n",
    "    n: int \n",
    "       cualquier número entero \n",
    "   \n",
    "    returns\n",
    "    -------\n",
    "    \n",
    "    bool: True o False\n",
    "   \n",
    "    Ejemplos\n",
    "    --------\n",
    "    \n",
    "    >>> es_par(240)\n",
    "    True\n",
    "    \n",
    "    >>> es_par(37)\n",
    "    False\n",
    "   \n",
    "   \"\"\"\n",
    "    if isinstance(n,int)==False:                   #se verifica si el número n es del tipo int, si no lo es la función  \n",
    "        print(\"el número ingresado no es válido\")  #devuelve un erro de tipo\n",
    "        raise TypeError                               \n",
    "    \n",
    "    if n!=int(n):\n",
    "        print(\"el número ingresado no es válido\")\n",
    "        return(0)\n",
    "    \n",
    "    if (n%2)==0:              #si el resto es 0, entonces es divisible por 2 y por lo tanto el número es par  \n",
    "        return True \n",
    "    else:\n",
    "        return False          #de lo contrario el número es impar \n",
    "    "
   ]
  },
  {
   "cell_type": "code",
   "execution_count": 48,
   "metadata": {},
   "outputs": [],
   "source": [
    "def suma_de_divisores(n:int)->int:\n",
    "    \n",
    "    \"\"\"\n",
    "    suma_de_divisores(n)\n",
    "    \n",
    "    La función obtiene la suma de los divisores de un número.\n",
    "    \n",
    "    Parámetros\n",
    "    ----------\n",
    "    \n",
    "    n: int \n",
    "        un número entero cualquiera\n",
    "    \n",
    "    returns\n",
    "    -------\n",
    "    \n",
    "    sum(Divisores): int \n",
    "                    suma de los divisores de n contenidos en la lista Divisores. \n",
    "    \n",
    "    \n",
    "    \n",
    "    Ejemplos\n",
    "    --------\n",
    "    \n",
    "    >>> suma_de_divisores(30)\n",
    "    41\n",
    "    \n",
    "    >>> suma_de_divisores(17)\n",
    "    18\n",
    "    \n",
    "    \"\"\"\n",
    "    if isinstance(n,int)==False:                        #se verifica si el número es del tipo entero mediante   \n",
    "        print(\"el número ingresado no es válido\")       #la función isinstance\n",
    "        raise TypeError\n",
    "    \n",
    "    \n",
    "    Divisores=[]    \n",
    "    \n",
    "    if es_par(n)==True:\n",
    "          for i in range(1,int((n/2)+1)):      #si el número es par, se genera una lista con números desde el 1 hasta \n",
    "                if (n%i)==0:                   #la mitad del número, si los números dividen a n, se guardan en la lista Divisores \n",
    "                    Divisores.append(i)        \n",
    "    \n",
    "    else:\n",
    "        a=int((n/2)+0.5)\n",
    "        for k in range(1,a):                   #si el número es impar, se genera una lista con números desde el 1\n",
    "            if (n%k)==0:                       #el número a,si los números dividen a n, se guardan en la lista Divisores  \n",
    "                Divisores.append(k)\n",
    "                 \n",
    "    \n",
    "    if len(Divisores)==1:                      #si la lista tiene largo 1, significa que el 1 fue el único divisor encontrado \n",
    "        return(n+1)                            #luego el número es primo y por lo tanto la suma de divisores es n+1 \n",
    "    \n",
    "    return(sum(Divisores))        \n",
    "            \n",
    "            \n",
    "            \n"
   ]
  },
  {
   "cell_type": "code",
   "execution_count": 49,
   "metadata": {},
   "outputs": [
    {
     "data": {
      "text/plain": [
       "18"
      ]
     },
     "execution_count": 49,
     "metadata": {},
     "output_type": "execute_result"
    }
   ],
   "source": [
    "suma_de_divisores(17)"
   ]
  },
  {
   "cell_type": "markdown",
   "metadata": {},
   "source": [
    "Posteriormente se desarrolla la función principal \"amigos\""
   ]
  },
  {
   "cell_type": "code",
   "execution_count": 50,
   "metadata": {},
   "outputs": [],
   "source": [
    "def amigos(n:int,m:int)->bool:\n",
    "    \n",
    "    \"\"\"\n",
    "    amigos(n)\n",
    "    \n",
    "    La función determina si los números son amigos.\n",
    "    \n",
    "    Parámetros\n",
    "    ----------\n",
    "\n",
    "    n: int\n",
    "    \n",
    "       un número natural cualquiera \n",
    "    \n",
    "    m: int\n",
    "  \n",
    "       un número natural cualquiera \n",
    "    \n",
    "    returns\n",
    "    -------\n",
    "    \n",
    "    bool: True o False\n",
    "    \n",
    "    \n",
    "    Ejemplos\n",
    "    --------\n",
    "    \n",
    "    >>> amigos(220,284)\n",
    "    True\n",
    "\n",
    "    >>> amigos(6,5)\n",
    "    False\n",
    "    \n",
    "    \"\"\"\n",
    "    \n",
    "    if isinstance(n,int)==False or isinstance(m,int)==False:          #se verifica si alguno de los número no es entero\n",
    "        print(\"alguno de los números ingresados es no es válido\")     #mediante la función isinstance\n",
    "        raise TypeError\n",
    "    \n",
    "    \n",
    "    \n",
    "    if suma_de_divisores(n)==m and suma_de_divisores(m)==n:     #se verifica si los número son amigos \n",
    "         return(True)                                           #con la ayuda de la función suma_de_divisores\n",
    "    \n",
    "    else:\n",
    "        return(False)\n",
    "    \n",
    "    "
   ]
  },
  {
   "cell_type": "code",
   "execution_count": 51,
   "metadata": {},
   "outputs": [
    {
     "data": {
      "text/plain": [
       "True"
      ]
     },
     "execution_count": 51,
     "metadata": {},
     "output_type": "execute_result"
    }
   ],
   "source": [
    "#Ejemplo 1\n",
    "amigos(220,284)"
   ]
  },
  {
   "cell_type": "code",
   "execution_count": 52,
   "metadata": {},
   "outputs": [
    {
     "data": {
      "text/plain": [
       "False"
      ]
     },
     "execution_count": 52,
     "metadata": {},
     "output_type": "execute_result"
    }
   ],
   "source": [
    "#Ejemplo 2 \n",
    "amigos(6,5)"
   ]
  },
  {
   "cell_type": "markdown",
   "metadata": {},
   "source": [
    "# Problema 03 #"
   ]
  },
  {
   "cell_type": "markdown",
   "metadata": {},
   "source": [
    "Se construye la función auxiliar \"minicollatz\". "
   ]
  },
  {
   "cell_type": "code",
   "execution_count": 53,
   "metadata": {},
   "outputs": [],
   "source": [
    "def minicollatz(n:int)->int:\n",
    "    \n",
    "    \"\"\"\n",
    "    \n",
    "    minicollatz(n:int)\n",
    "    \n",
    "    La función opera el número ingresado dependiendo si es par \n",
    "    o si es impar:\n",
    "    \n",
    "    par: el número se divide en 2\n",
    "    impar: el número se multiplica por 3 y se le suma 1\n",
    "    \n",
    "    Parámetros\n",
    "    ----------\n",
    "    \n",
    "    n: int \n",
    "       un número natural cualquiera\n",
    "       \n",
    "    returns\n",
    "    -------\n",
    "    \n",
    "    m: int\n",
    "       resultado dependiendo de como se \n",
    "       haya operado sobre n\n",
    "       \n",
    "   \n",
    "    Ejemplos\n",
    "    --------\n",
    "    >>> minicollatz(7)\n",
    "    22\n",
    "    \n",
    "    >>> minicollatz(4)\n",
    "    2\n",
    "    \n",
    "    \"\"\"\n",
    "    \n",
    "    if isinstance(n,int)==False:\n",
    "        print(\"el número ingresado no es válido\")          #se verifica si n es un entero \n",
    "        raise TypeError \n",
    "    \n",
    "    if es_par(n)==True:                                   #si n es par, entonces se divide en 2 \n",
    "        m=int(n/2)\n",
    "        return(m)\n",
    "    \n",
    "    else:                                                 #si n es impar, entonces se multiplica por 3\n",
    "        m=int(3*n+1)                                      #y se le suma 1\n",
    "        return(m)\n",
    "    \n",
    "    "
   ]
  },
  {
   "cell_type": "code",
   "execution_count": 54,
   "metadata": {},
   "outputs": [
    {
     "data": {
      "text/plain": [
       "22"
      ]
     },
     "execution_count": 54,
     "metadata": {},
     "output_type": "execute_result"
    }
   ],
   "source": [
    "#Ejemplo \n",
    "minicollatz(7)"
   ]
  },
  {
   "cell_type": "markdown",
   "metadata": {},
   "source": [
    "Se desarrolla la función principal \"collatz\"."
   ]
  },
  {
   "cell_type": "code",
   "execution_count": 55,
   "metadata": {},
   "outputs": [],
   "source": [
    "def collatz(n:int)->list:\n",
    "    \n",
    "    \"\"\"\n",
    "    collatz(n)\n",
    "    \n",
    "    La función recibe un número entero a partir del cual se creará una lista \n",
    "    que contendrá los números obtenidos a partir del algoritmo de la conjetura \n",
    "    de Collatz\n",
    "    \n",
    "    Parámetros\n",
    "    ----------\n",
    "\n",
    "    n: int\n",
    "       número natural\n",
    "       \n",
    "    returns\n",
    "    -------\n",
    "    \n",
    "    lista: list\n",
    "           lista que contiene los términos originados por el algoritmo de \n",
    "           la conjetura de Collatz \n",
    "\n",
    "    \n",
    "    Ejemplos\n",
    "    --------\n",
    "    \n",
    "    >>> collatz(6)\n",
    "    [6, 3, 10, 5, 16, 8, 4, 2, 1]\n",
    "    \n",
    "    \n",
    "    >>> collatz(9)\n",
    "    [9, 28, 14, 7, 22, 11, 34, 17, 52, 26, 13, 40, 20, 10, 5, 16, 8, 4, 2, 1]\n",
    "    \"\"\"\n",
    "\n",
    "    if isinstance(n,int)==False:\n",
    "        raise TypeError(\"el núnmero ingresado no es válido\")        #se verifica si n es entero\n",
    "  \n",
    "\n",
    "    if n<0:\n",
    "         raise Except(\"no se aceptan números negativos\")            #se verifica si n es postivo\n",
    "\n",
    "    \n",
    "    lista=[]\n",
    "    \n",
    "    lista.append(n)                                       #se agrega n a la lista para que la sucesión esté\n",
    "                                                          #completa        \n",
    "   \n",
    "    while n>1:\n",
    "                                                         \n",
    "        n=minicollatz(n)                                #se ejecuta el algoritmo de la conjetura de collatz\n",
    "        lista.append(n)                                 #mientras n no sea 1, el algoritmo se sigue ejecutando las veces \n",
    "                                                        #que se necesario hasta llegar a 1 \n",
    "    return(lista)\n",
    "\n"
   ]
  },
  {
   "cell_type": "code",
   "execution_count": 56,
   "metadata": {},
   "outputs": [
    {
     "name": "stdout",
     "output_type": "stream",
     "text": [
      "[9, 28, 14, 7, 22, 11, 34, 17, 52, 26, 13, 40, 20, 10, 5, 16, 8, 4, 2, 1]\n"
     ]
    }
   ],
   "source": [
    "#Ejemplo \n",
    "print(collatz(9))"
   ]
  },
  {
   "cell_type": "markdown",
   "metadata": {},
   "source": [
    "# Problema 04 #"
   ]
  },
  {
   "cell_type": "markdown",
   "metadata": {},
   "source": [
    "Se desarrolla la función auxiliar \"es_primo\"."
   ]
  },
  {
   "cell_type": "code",
   "execution_count": 74,
   "metadata": {},
   "outputs": [],
   "source": [
    "def es_primo(n:int)->bool:\n",
    "    \n",
    "    \"\"\"\n",
    "    es_primo(n)\n",
    "    \n",
    "    La función verifica si un número es primo.\n",
    "    \n",
    "    Parámetros\n",
    "    ----------\n",
    "    \n",
    "    n: int \n",
    "       un número natural \n",
    "    \n",
    "    returns\n",
    "    -------\n",
    "    \n",
    "    bool: True o False\n",
    "    \n",
    "    Ejemplos\n",
    "    --------\n",
    "    \n",
    "    >>> es_primo(4)\n",
    "    False\n",
    "    \n",
    "    >>> es_primo(97)\n",
    "    True\n",
    "    \n",
    "    \"\"\"\n",
    "\n",
    "    lista=[]\n",
    "    \n",
    "    if n<0:\n",
    "        raise Exception(\"el número ingresado es negativo\")     #verifica si el núemero es negativo\n",
    "    \n",
    "    elif n==1:             #si el número es 1 entonces no es primo                              \n",
    "        return False\n",
    "    \n",
    "    elif n==2:            #si el número es 2 entonces es primo \n",
    "        return True\n",
    "    \n",
    "    elif (n%2)==0:        #si el número es par distinto de 2 entonces no es primo  \n",
    "        return False\n",
    "    \n",
    "    else:\n",
    "        m=int((n/2)+0.5)      \n",
    "        \n",
    "        for i in range(1,m):\n",
    "            if (n%i)==0:               #se crea una lista desde el 1 hasta el término central de la sucesión: \n",
    "                lista.append(i)        # 1,2,3,....,n  y se agregan los términos que dividen a n\n",
    "                \n",
    "    if len(lista)==1:                  #si la lista tiene largo 1, se tiene que el único elemento que divide a n es el 1\n",
    "        return True                    #por lo que n es primo\n",
    "    \n",
    "    else:                              #si la lista tiene largo mayor a 1, entonces n no es primo  \n",
    "        return False\n",
    "    \n",
    "    \n",
    "    \n",
    "    \n",
    "    "
   ]
  },
  {
   "cell_type": "code",
   "execution_count": 58,
   "metadata": {},
   "outputs": [
    {
     "data": {
      "text/plain": [
       "True"
      ]
     },
     "execution_count": 58,
     "metadata": {},
     "output_type": "execute_result"
    }
   ],
   "source": [
    "#Ejemplo\n",
    "es_primo(97)"
   ]
  },
  {
   "cell_type": "markdown",
   "metadata": {},
   "source": [
    "Y finalmente se desarrolla la función principal \"goldbach\"."
   ]
  },
  {
   "cell_type": "code",
   "execution_count": 79,
   "metadata": {},
   "outputs": [],
   "source": [
    "def goldbach(n:int)->tuple:\n",
    "    \n",
    "    \"\"\"\n",
    "    goldbach(n)\n",
    "    \n",
    "    La función recibe un número par mayor que 2 y \n",
    "    entrega una tupla con 2 números primos que al \n",
    "    sumarlos dan com resultado el número recibido \n",
    "    por la función.\n",
    "    \n",
    "    Parámetros\n",
    "    ----------\n",
    "    \n",
    "    n: int \n",
    "       número par mayor que 2\n",
    "       \n",
    "    returns\n",
    "    -------\n",
    "    \n",
    "    tupla: tuple\n",
    "           tupla que contiene dos números primos que al sumarlos \n",
    "           dan cmo resultado n\n",
    "           \n",
    "    Ejemplos\n",
    "    --------\n",
    "    \n",
    "    >>> goldbach(14)\n",
    "    (7, 7)\n",
    "    \n",
    "    >>> goldbach(28)\n",
    "    (5, 23)\n",
    "\n",
    "    \"\"\"\n",
    "    lista=[]\n",
    "    \n",
    "    if n<0 or n<=2:                                               #si el número es negativo no es válido \n",
    "        raise Exception(\"el número ingresado no es válido\")       #la conjetura está pensada para número mayores a 2\n",
    "    \n",
    "    if (n%2)!=0:\n",
    "        raise Exception(\"el número ingresado no es par\")          #la conjetura está pensada para números pares \n",
    "        \n",
    "    for k in range(1,n+1):                                        #se crea una lista de 1 hasta n y se verifican que términos\n",
    "        if (es_primo(k))==True:                                   #son primos , si el término es primo, se agrega a la lista  \n",
    "            lista.append(k)\n",
    "    \n",
    "    for i in lista:                                               #se recorre la lista para retarle elt término a \"i\" a n\n",
    "        N=n-i                                                     #y se verifica si N es primo     \n",
    "        if (es_primo(N))==True:                                   #si N es primo, entonces se ha encontrado al par de números\n",
    "            tupla=(i,N)                                           #primos que al sumarlos dan n \n",
    "            return(tupla)                                         #y por lo tanto se guardan en la tupla y la función retorna \n",
    "                                                                  #dicha tupla  "
   ]
  },
  {
   "cell_type": "code",
   "execution_count": 80,
   "metadata": {},
   "outputs": [
    {
     "data": {
      "text/plain": [
       "(2, 2)"
      ]
     },
     "execution_count": 80,
     "metadata": {},
     "output_type": "execute_result"
    }
   ],
   "source": [
    "#Ejemplo 1\n",
    "goldbach(4)"
   ]
  },
  {
   "cell_type": "code",
   "execution_count": 81,
   "metadata": {},
   "outputs": [
    {
     "data": {
      "text/plain": [
       "(3, 3)"
      ]
     },
     "execution_count": 81,
     "metadata": {},
     "output_type": "execute_result"
    }
   ],
   "source": [
    "#Ejemplo 2\n",
    "goldbach(6)"
   ]
  },
  {
   "cell_type": "code",
   "execution_count": 82,
   "metadata": {},
   "outputs": [
    {
     "data": {
      "text/plain": [
       "(3, 5)"
      ]
     },
     "execution_count": 82,
     "metadata": {},
     "output_type": "execute_result"
    }
   ],
   "source": [
    "#Ejemplo 3 \n",
    "goldbach(8)"
   ]
  }
 ],
 "metadata": {
  "kernelspec": {
   "display_name": "Python 3",
   "language": "python",
   "name": "python3"
  },
  "language_info": {
   "codemirror_mode": {
    "name": "ipython",
    "version": 3
   },
   "file_extension": ".py",
   "mimetype": "text/x-python",
   "name": "python",
   "nbconvert_exporter": "python",
   "pygments_lexer": "ipython3",
   "version": "3.7.8"
  }
 },
 "nbformat": 4,
 "nbformat_minor": 4
}
